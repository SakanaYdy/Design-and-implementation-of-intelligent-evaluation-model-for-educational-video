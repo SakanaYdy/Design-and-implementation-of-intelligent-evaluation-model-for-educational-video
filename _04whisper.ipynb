{
 "cells": [
  {
   "cell_type": "code",
   "execution_count": 3,
   "metadata": {
    "collapsed": true,
    "ExecuteTime": {
     "end_time": "2023-12-04T02:30:36.514709400Z",
     "start_time": "2023-12-04T02:30:27.619663300Z"
    }
   },
   "outputs": [
    {
     "name": "stdout",
     "output_type": "stream",
     "text": [
      "已将视频文件列表写入到 C:\\Users\\杨大宇\\PycharmProjects\\pythonProject\\Project\\download\\output\\2.txt 文件中。\n"
     ]
    }
   ],
   "source": [
    "import os\n",
    "\n",
    "def get_video_files(folder_path):\n",
    "    video_files = [f for f in os.listdir(folder_path) if f.lower().endswith(('.mp4', '.avi', '.mkv', '.mov', '.wmv'))]\n",
    "    return video_files\n",
    "\n",
    "def write_to_txt(video_files, output_file):\n",
    "    with open(output_file, 'w') as f:\n",
    "        for video_file in video_files:\n",
    "            # 构造 写入文本的文本名\n",
    "            filename = video_file.split('.')\n",
    "            output = filename[0] + \".txt\"\n",
    "            command = f\"\"\"whisper {video_file} > {output}\\n\"\"\"\n",
    "            f.write(command)\n",
    "\n",
    "def main():\n",
    "    folder_path = input(\"请输入视频文件夹的路径：\")\n",
    "    output_file = input(\"请输入要保存的txt文件路径和名称：\")\n",
    "\n",
    "    video_files = get_video_files(folder_path)\n",
    "\n",
    "    if not video_files:\n",
    "        print(\"文件夹中没有找到视频文件。\")\n",
    "    else:\n",
    "        write_to_txt(video_files, output_file)\n",
    "        print(f\"已将视频文件列表写入到 {output_file} 文件中。\")\n",
    "\n",
    "# C:\\Users\\杨大宇\\PycharmProjects\\pythonProject\\Project\\download\n",
    "# C:\\Users\\杨大宇\\PycharmProjects\\pythonProject\\Project\\download\\output\n",
    "main()"
   ]
  },
  {
   "cell_type": "code",
   "execution_count": 5,
   "outputs": [
    {
     "name": "stdout",
     "output_type": "stream",
     "text": [
      "成功将 C:\\Users\\杨大宇\\PycharmProjects\\pythonProject\\Project\\download\\output\\2.txt 复制到 C:\\Users\\杨大宇\\PycharmProjects\\pythonProject\\Project\\download\\output\\3.bat。\n"
     ]
    }
   ],
   "source": [
    "# 读取运行命令到批处理文件\n",
    "def copy_text_file(source_file, destination_file):\n",
    "    try:\n",
    "        with open(source_file, 'r') as source:\n",
    "            content = source.read()\n",
    "            with open(destination_file, 'w') as destination:\n",
    "                destination.write(content)\n",
    "        print(f\"成功将 {source_file} 复制到 {destination_file}。\")\n",
    "    except FileNotFoundError:\n",
    "        print(\"文件未找到，请检查文件路径。\")\n",
    "    except Exception as e:\n",
    "        print(f\"发生错误: {e}\")\n",
    "\n",
    "# C:\\Users\\杨大宇\\PycharmProjects\\pythonProject\\Project\\download\\output\n",
    "source_file = input(\"请输入源文本文件的路径：\")\n",
    "destination_file = input(\"请输入目标文本文件的路径：\")\n",
    "\n",
    "copy_text_file(source_file, destination_file)"
   ],
   "metadata": {
    "collapsed": false,
    "ExecuteTime": {
     "end_time": "2023-12-04T02:38:08.664813300Z",
     "start_time": "2023-12-04T02:37:51.862386800Z"
    }
   }
  },
  {
   "cell_type": "code",
   "execution_count": 2,
   "outputs": [
    {
     "name": "stdout",
     "output_type": "stream",
     "text": [
      "8392\n"
     ]
    }
   ],
   "source": [
    "import cv2\n",
    "# 对视频进行帧数剥离 并进行存储\n",
    "video = cv2.VideoCapture(\"download\\【03-理论课】什么是HTTP请求和响应？_哔哩哔哩_bilibili_merged.mp4\")\n",
    "\n",
    "cnt = 0\n",
    "while True:\n",
    "    ret,frame = video.read()\n",
    "    if not ret:\n",
    "        break\n",
    "    if cnt % 300 == 0:\n",
    "        cv2.imwrite(f'download/images/{cnt}.jpg',frame)\n",
    "\n",
    "    cnt += 1\n",
    "print(cnt)\n",
    "video.release()\n",
    "cv2.destroyAllWindows()"
   ],
   "metadata": {
    "collapsed": false,
    "ExecuteTime": {
     "end_time": "2024-05-13T01:17:10.965434400Z",
     "start_time": "2024-05-13T01:17:04.795946800Z"
    }
   }
  },
  {
   "cell_type": "code",
   "execution_count": 4,
   "outputs": [],
   "source": [
    "import cv2\n",
    "import os\n",
    "\n",
    "# 定义函数来保存视频片段\n",
    "def save_video_clip(clip_number, frames):\n",
    "    # 设置输出文件名\n",
    "    output_filename = f\"download/output/clip_{clip_number}.mp4\"\n",
    "\n",
    "    # 创建VideoWriter对象\n",
    "    fourcc = cv2.VideoWriter_fourcc(*'mp4v')\n",
    "    out = cv2.VideoWriter(output_filename, fourcc, 30.0, (frames[0].shape[1], frames[0].shape[0]))\n",
    "\n",
    "    # 逐帧写入视频\n",
    "    for frame in frames:\n",
    "        out.write(frame)\n",
    "    out.release()\n",
    "\n",
    "# 打开视频文件\n",
    "video = cv2.VideoCapture(\"download/【03-理论课】什么是HTTP请求和响应？_哔哩哔哩_bilibili_merged.mp4\")\n",
    "\n",
    "# 设置帧率和间隔时间（单位：秒）\n",
    "frame_rate = 30  # 帧率\n",
    "interval_seconds = 10  # 时间间隔（秒）\n",
    "\n",
    "# 初始化计数器和帧缓冲区\n",
    "cnt = 0\n",
    "frames_buffer = []\n",
    "\n",
    "while True:\n",
    "    ret, frame = video.read()\n",
    "    if not ret:\n",
    "        break\n",
    "\n",
    "    # 将帧添加到缓冲区\n",
    "    frames_buffer.append(frame)\n",
    "\n",
    "    # 如果已经达到指定的时间间隔\n",
    "    if cnt % (frame_rate * interval_seconds) == 0 and cnt != 0:\n",
    "        # 保存视频片段\n",
    "        save_video_clip(cnt // (frame_rate * interval_seconds), frames_buffer)\n",
    "        # 清空缓冲区\n",
    "        frames_buffer = []\n",
    "\n",
    "    cnt += 1\n",
    "\n",
    "# 如果还有剩余帧，保存最后一个视频片段\n",
    "if frames_buffer:\n",
    "    save_video_clip(cnt // (frame_rate * interval_seconds) + 1, frames_buffer)\n",
    "\n",
    "# 释放资源\n",
    "video.release()\n",
    "cv2.destroyAllWindows()\n"
   ],
   "metadata": {
    "collapsed": false,
    "ExecuteTime": {
     "end_time": "2024-05-13T01:22:00.251850300Z",
     "start_time": "2024-05-13T01:21:45.015204300Z"
    }
   }
  }
 ],
 "metadata": {
  "kernelspec": {
   "display_name": "Python 3",
   "language": "python",
   "name": "python3"
  },
  "language_info": {
   "codemirror_mode": {
    "name": "ipython",
    "version": 2
   },
   "file_extension": ".py",
   "mimetype": "text/x-python",
   "name": "python",
   "nbconvert_exporter": "python",
   "pygments_lexer": "ipython2",
   "version": "2.7.6"
  }
 },
 "nbformat": 4,
 "nbformat_minor": 0
}
