{
 "cells": [
  {
   "cell_type": "code",
   "execution_count": 2,
   "metadata": {
    "collapsed": true,
    "ExecuteTime": {
     "end_time": "2023-12-02T15:59:42.418028500Z",
     "start_time": "2023-12-02T15:59:42.291356900Z"
    }
   },
   "outputs": [],
   "source": [
    "import speech_recognition as sr\n",
    "\n",
    "def audio_to_text(audio_path):\n",
    "    recognizer = sr.Recognizer()\n",
    "\n",
    "    # 打开音频文件\n",
    "    with sr.AudioFile(audio_path) as source:\n",
    "        audio_data = recognizer.record(source)\n",
    "\n",
    "    try:\n",
    "        # 使用Google的语音识别API将音频转为文本\n",
    "        text = recognizer.recognize_google(audio_data)\n",
    "        return text\n",
    "    except sr.UnknownValueError:\n",
    "        print(\"Google语音识别API无法理解音频\")\n",
    "        return None\n",
    "    except sr.RequestError as e:\n",
    "        print(f\"无法连接到Google语音识别API: {e}\")\n",
    "        return None\n"
   ]
  },
  {
   "cell_type": "code",
   "execution_count": 3,
   "outputs": [],
   "source": [
    "# # 音频文件路径\n",
    "# video_path = \"download/【02-理论课】爬虫的流程？从入门到入狱？_哔哩哔哩_bilibili_merged.mp4\"\n",
    "#\n",
    "# # mp4 转 mp3\n",
    "# from moviepy.editor import VideoFileClip\n",
    "#\n",
    "# def convert_video_to_audio(input_video, output_audio):\n",
    "#     video_clip = VideoFileClip(input_video)\n",
    "#     audio_clip = video_clip.audio\n",
    "#     audio_clip.write_audiofile(output_audio)\n",
    "#     audio_clip.close()\n",
    "#\n",
    "# # 输出音频文件路径（MP3格式）\n",
    "# audio_path = \"download/【02-理论课】爬虫的流程？从入门到入狱？_哔哩哔哩_bilibili_merged.mp3\"\n",
    "#\n",
    "# # 进行视频转音频\n",
    "# convert_video_to_audio(video_path, audio_path)"
   ],
   "metadata": {
    "collapsed": false,
    "ExecuteTime": {
     "end_time": "2023-12-02T15:59:42.422292500Z",
     "start_time": "2023-12-02T15:59:42.418028500Z"
    }
   }
  },
  {
   "cell_type": "code",
   "execution_count": 4,
   "outputs": [
    {
     "ename": "FileNotFoundError",
     "evalue": "[WinError 2] 系统找不到指定的文件。",
     "output_type": "error",
     "traceback": [
      "\u001B[1;31m---------------------------------------------------------------------------\u001B[0m",
      "\u001B[1;31mFileNotFoundError\u001B[0m                         Traceback (most recent call last)",
      "Cell \u001B[1;32mIn[4], line 16\u001B[0m\n\u001B[0;32m      4\u001B[0m audio_path \u001B[38;5;241m=\u001B[39m \u001B[38;5;124m\"\u001B[39m\u001B[38;5;124mdownload/1.wav\u001B[39m\u001B[38;5;124m\"\u001B[39m\n\u001B[0;32m      6\u001B[0m command \u001B[38;5;241m=\u001B[39m [\n\u001B[0;32m      7\u001B[0m     \u001B[38;5;124m\"\u001B[39m\u001B[38;5;124mffmpeg\u001B[39m\u001B[38;5;124m\"\u001B[39m,\n\u001B[0;32m      8\u001B[0m     \u001B[38;5;124m\"\u001B[39m\u001B[38;5;124m-i\u001B[39m\u001B[38;5;124m\"\u001B[39m, video_path,\n\u001B[1;32m   (...)\u001B[0m\n\u001B[0;32m     13\u001B[0m     audio_path\n\u001B[0;32m     14\u001B[0m ]\n\u001B[1;32m---> 16\u001B[0m \u001B[43msubprocess\u001B[49m\u001B[38;5;241;43m.\u001B[39;49m\u001B[43mrun\u001B[49m\u001B[43m(\u001B[49m\u001B[43mcommand\u001B[49m\u001B[43m)\u001B[49m\n",
      "File \u001B[1;32m~\\AppData\\Local\\Programs\\Python\\Python311\\Lib\\subprocess.py:546\u001B[0m, in \u001B[0;36mrun\u001B[1;34m(input, capture_output, timeout, check, *popenargs, **kwargs)\u001B[0m\n\u001B[0;32m    543\u001B[0m     kwargs[\u001B[38;5;124m'\u001B[39m\u001B[38;5;124mstdout\u001B[39m\u001B[38;5;124m'\u001B[39m] \u001B[38;5;241m=\u001B[39m PIPE\n\u001B[0;32m    544\u001B[0m     kwargs[\u001B[38;5;124m'\u001B[39m\u001B[38;5;124mstderr\u001B[39m\u001B[38;5;124m'\u001B[39m] \u001B[38;5;241m=\u001B[39m PIPE\n\u001B[1;32m--> 546\u001B[0m \u001B[38;5;28;01mwith\u001B[39;00m \u001B[43mPopen\u001B[49m\u001B[43m(\u001B[49m\u001B[38;5;241;43m*\u001B[39;49m\u001B[43mpopenargs\u001B[49m\u001B[43m,\u001B[49m\u001B[43m \u001B[49m\u001B[38;5;241;43m*\u001B[39;49m\u001B[38;5;241;43m*\u001B[39;49m\u001B[43mkwargs\u001B[49m\u001B[43m)\u001B[49m \u001B[38;5;28;01mas\u001B[39;00m process:\n\u001B[0;32m    547\u001B[0m     \u001B[38;5;28;01mtry\u001B[39;00m:\n\u001B[0;32m    548\u001B[0m         stdout, stderr \u001B[38;5;241m=\u001B[39m process\u001B[38;5;241m.\u001B[39mcommunicate(\u001B[38;5;28minput\u001B[39m, timeout\u001B[38;5;241m=\u001B[39mtimeout)\n",
      "File \u001B[1;32m~\\AppData\\Local\\Programs\\Python\\Python311\\Lib\\subprocess.py:1022\u001B[0m, in \u001B[0;36mPopen.__init__\u001B[1;34m(self, args, bufsize, executable, stdin, stdout, stderr, preexec_fn, close_fds, shell, cwd, env, universal_newlines, startupinfo, creationflags, restore_signals, start_new_session, pass_fds, user, group, extra_groups, encoding, errors, text, umask, pipesize, process_group)\u001B[0m\n\u001B[0;32m   1018\u001B[0m         \u001B[38;5;28;01mif\u001B[39;00m \u001B[38;5;28mself\u001B[39m\u001B[38;5;241m.\u001B[39mtext_mode:\n\u001B[0;32m   1019\u001B[0m             \u001B[38;5;28mself\u001B[39m\u001B[38;5;241m.\u001B[39mstderr \u001B[38;5;241m=\u001B[39m io\u001B[38;5;241m.\u001B[39mTextIOWrapper(\u001B[38;5;28mself\u001B[39m\u001B[38;5;241m.\u001B[39mstderr,\n\u001B[0;32m   1020\u001B[0m                     encoding\u001B[38;5;241m=\u001B[39mencoding, errors\u001B[38;5;241m=\u001B[39merrors)\n\u001B[1;32m-> 1022\u001B[0m     \u001B[38;5;28;43mself\u001B[39;49m\u001B[38;5;241;43m.\u001B[39;49m\u001B[43m_execute_child\u001B[49m\u001B[43m(\u001B[49m\u001B[43margs\u001B[49m\u001B[43m,\u001B[49m\u001B[43m \u001B[49m\u001B[43mexecutable\u001B[49m\u001B[43m,\u001B[49m\u001B[43m \u001B[49m\u001B[43mpreexec_fn\u001B[49m\u001B[43m,\u001B[49m\u001B[43m \u001B[49m\u001B[43mclose_fds\u001B[49m\u001B[43m,\u001B[49m\n\u001B[0;32m   1023\u001B[0m \u001B[43m                        \u001B[49m\u001B[43mpass_fds\u001B[49m\u001B[43m,\u001B[49m\u001B[43m \u001B[49m\u001B[43mcwd\u001B[49m\u001B[43m,\u001B[49m\u001B[43m \u001B[49m\u001B[43menv\u001B[49m\u001B[43m,\u001B[49m\n\u001B[0;32m   1024\u001B[0m \u001B[43m                        \u001B[49m\u001B[43mstartupinfo\u001B[49m\u001B[43m,\u001B[49m\u001B[43m \u001B[49m\u001B[43mcreationflags\u001B[49m\u001B[43m,\u001B[49m\u001B[43m \u001B[49m\u001B[43mshell\u001B[49m\u001B[43m,\u001B[49m\n\u001B[0;32m   1025\u001B[0m \u001B[43m                        \u001B[49m\u001B[43mp2cread\u001B[49m\u001B[43m,\u001B[49m\u001B[43m \u001B[49m\u001B[43mp2cwrite\u001B[49m\u001B[43m,\u001B[49m\n\u001B[0;32m   1026\u001B[0m \u001B[43m                        \u001B[49m\u001B[43mc2pread\u001B[49m\u001B[43m,\u001B[49m\u001B[43m \u001B[49m\u001B[43mc2pwrite\u001B[49m\u001B[43m,\u001B[49m\n\u001B[0;32m   1027\u001B[0m \u001B[43m                        \u001B[49m\u001B[43merrread\u001B[49m\u001B[43m,\u001B[49m\u001B[43m \u001B[49m\u001B[43merrwrite\u001B[49m\u001B[43m,\u001B[49m\n\u001B[0;32m   1028\u001B[0m \u001B[43m                        \u001B[49m\u001B[43mrestore_signals\u001B[49m\u001B[43m,\u001B[49m\n\u001B[0;32m   1029\u001B[0m \u001B[43m                        \u001B[49m\u001B[43mgid\u001B[49m\u001B[43m,\u001B[49m\u001B[43m \u001B[49m\u001B[43mgids\u001B[49m\u001B[43m,\u001B[49m\u001B[43m \u001B[49m\u001B[43muid\u001B[49m\u001B[43m,\u001B[49m\u001B[43m \u001B[49m\u001B[43mumask\u001B[49m\u001B[43m,\u001B[49m\n\u001B[0;32m   1030\u001B[0m \u001B[43m                        \u001B[49m\u001B[43mstart_new_session\u001B[49m\u001B[43m,\u001B[49m\u001B[43m \u001B[49m\u001B[43mprocess_group\u001B[49m\u001B[43m)\u001B[49m\n\u001B[0;32m   1031\u001B[0m \u001B[38;5;28;01mexcept\u001B[39;00m:\n\u001B[0;32m   1032\u001B[0m     \u001B[38;5;66;03m# Cleanup if the child failed starting.\u001B[39;00m\n\u001B[0;32m   1033\u001B[0m     \u001B[38;5;28;01mfor\u001B[39;00m f \u001B[38;5;129;01min\u001B[39;00m \u001B[38;5;28mfilter\u001B[39m(\u001B[38;5;28;01mNone\u001B[39;00m, (\u001B[38;5;28mself\u001B[39m\u001B[38;5;241m.\u001B[39mstdin, \u001B[38;5;28mself\u001B[39m\u001B[38;5;241m.\u001B[39mstdout, \u001B[38;5;28mself\u001B[39m\u001B[38;5;241m.\u001B[39mstderr)):\n",
      "File \u001B[1;32m~\\AppData\\Local\\Programs\\Python\\Python311\\Lib\\subprocess.py:1491\u001B[0m, in \u001B[0;36mPopen._execute_child\u001B[1;34m(self, args, executable, preexec_fn, close_fds, pass_fds, cwd, env, startupinfo, creationflags, shell, p2cread, p2cwrite, c2pread, c2pwrite, errread, errwrite, unused_restore_signals, unused_gid, unused_gids, unused_uid, unused_umask, unused_start_new_session, unused_process_group)\u001B[0m\n\u001B[0;32m   1489\u001B[0m \u001B[38;5;66;03m# Start the process\u001B[39;00m\n\u001B[0;32m   1490\u001B[0m \u001B[38;5;28;01mtry\u001B[39;00m:\n\u001B[1;32m-> 1491\u001B[0m     hp, ht, pid, tid \u001B[38;5;241m=\u001B[39m \u001B[43m_winapi\u001B[49m\u001B[38;5;241;43m.\u001B[39;49m\u001B[43mCreateProcess\u001B[49m\u001B[43m(\u001B[49m\u001B[43mexecutable\u001B[49m\u001B[43m,\u001B[49m\u001B[43m \u001B[49m\u001B[43margs\u001B[49m\u001B[43m,\u001B[49m\n\u001B[0;32m   1492\u001B[0m \u001B[43m                             \u001B[49m\u001B[38;5;66;43;03m# no special security\u001B[39;49;00m\n\u001B[0;32m   1493\u001B[0m \u001B[43m                             \u001B[49m\u001B[38;5;28;43;01mNone\u001B[39;49;00m\u001B[43m,\u001B[49m\u001B[43m \u001B[49m\u001B[38;5;28;43;01mNone\u001B[39;49;00m\u001B[43m,\u001B[49m\n\u001B[0;32m   1494\u001B[0m \u001B[43m                             \u001B[49m\u001B[38;5;28;43mint\u001B[39;49m\u001B[43m(\u001B[49m\u001B[38;5;129;43;01mnot\u001B[39;49;00m\u001B[43m \u001B[49m\u001B[43mclose_fds\u001B[49m\u001B[43m)\u001B[49m\u001B[43m,\u001B[49m\n\u001B[0;32m   1495\u001B[0m \u001B[43m                             \u001B[49m\u001B[43mcreationflags\u001B[49m\u001B[43m,\u001B[49m\n\u001B[0;32m   1496\u001B[0m \u001B[43m                             \u001B[49m\u001B[43menv\u001B[49m\u001B[43m,\u001B[49m\n\u001B[0;32m   1497\u001B[0m \u001B[43m                             \u001B[49m\u001B[43mcwd\u001B[49m\u001B[43m,\u001B[49m\n\u001B[0;32m   1498\u001B[0m \u001B[43m                             \u001B[49m\u001B[43mstartupinfo\u001B[49m\u001B[43m)\u001B[49m\n\u001B[0;32m   1499\u001B[0m \u001B[38;5;28;01mfinally\u001B[39;00m:\n\u001B[0;32m   1500\u001B[0m     \u001B[38;5;66;03m# Child is launched. Close the parent's copy of those pipe\u001B[39;00m\n\u001B[0;32m   1501\u001B[0m     \u001B[38;5;66;03m# handles that only the child should have open.  You need\u001B[39;00m\n\u001B[1;32m   (...)\u001B[0m\n\u001B[0;32m   1504\u001B[0m     \u001B[38;5;66;03m# pipe will not close when the child process exits and the\u001B[39;00m\n\u001B[0;32m   1505\u001B[0m     \u001B[38;5;66;03m# ReadFile will hang.\u001B[39;00m\n\u001B[0;32m   1506\u001B[0m     \u001B[38;5;28mself\u001B[39m\u001B[38;5;241m.\u001B[39m_close_pipe_fds(p2cread, p2cwrite,\n\u001B[0;32m   1507\u001B[0m                          c2pread, c2pwrite,\n\u001B[0;32m   1508\u001B[0m                          errread, errwrite)\n",
      "\u001B[1;31mFileNotFoundError\u001B[0m: [WinError 2] 系统找不到指定的文件。"
     ]
    }
   ],
   "source": [],
   "metadata": {
    "collapsed": false,
    "ExecuteTime": {
     "end_time": "2023-12-02T15:59:42.494618700Z",
     "start_time": "2023-12-02T15:59:42.423293200Z"
    }
   }
  },
  {
   "cell_type": "code",
   "execution_count": 2,
   "outputs": [
    {
     "name": "stdout",
     "output_type": "stream",
     "text": [
      "文件存在，可以继续处理。\n"
     ]
    }
   ],
   "source": [
    "import os\n",
    "video_path = \"download/1.mp4\"\n",
    "audio_path = \"download/1.wav\"\n",
    "# 检查文件是否存在\n",
    "if os.path.exists(video_path):\n",
    "    print(\"文件存在，可以继续处理。\")\n",
    "    # 继续进行音频格式转换或其他操作\n",
    "else:\n",
    "    print(\"错误：指定的文件不存在。请检查文件路径。\")"
   ],
   "metadata": {
    "collapsed": false,
    "ExecuteTime": {
     "end_time": "2023-12-03T05:33:12.114378800Z",
     "start_time": "2023-12-03T05:33:12.102982Z"
    }
   }
  },
  {
   "cell_type": "code",
   "execution_count": 3,
   "outputs": [
    {
     "name": "stdout",
     "output_type": "stream",
     "text": [
      "MoviePy - Writing audio in download/1.wav\n"
     ]
    },
    {
     "name": "stderr",
     "output_type": "stream",
     "text": [
      "                                                                      "
     ]
    },
    {
     "name": "stdout",
     "output_type": "stream",
     "text": [
      "MoviePy - Done.\n"
     ]
    },
    {
     "name": "stderr",
     "output_type": "stream",
     "text": [
      "\r"
     ]
    }
   ],
   "source": [
    "from moviepy.editor import VideoFileClip\n",
    "\n",
    "def convert_mp4_to_wav(input_video, output_audio):\n",
    "    video_clip = VideoFileClip(input_video)\n",
    "    audio_clip = video_clip.audio\n",
    "    audio_clip.write_audiofile(output_audio)\n",
    "    audio_clip.close()\n",
    "\n",
    "# 进行视频转音频\n",
    "convert_mp4_to_wav(video_path, audio_path)\n"
   ],
   "metadata": {
    "collapsed": false,
    "ExecuteTime": {
     "end_time": "2023-12-03T05:33:17.611809Z",
     "start_time": "2023-12-03T05:33:14.893891Z"
    }
   }
  },
  {
   "cell_type": "code",
   "execution_count": 5,
   "outputs": [
    {
     "name": "stdout",
     "output_type": "stream",
     "text": [
      "语音识别失败，错误代码：3305, 错误信息：request pv too much\n"
     ]
    }
   ],
   "source": [
    "# -*- coding: utf-8 -*-\n",
    "#\n",
    "#   author: yanmeng2\n",
    "#\n",
    "# 非实时转写调用demo\n",
    "\n",
    "import base64\n",
    "import hashlib\n",
    "import hmac\n",
    "import json\n",
    "import os\n",
    "import time\n",
    "import re\n",
    "\n",
    "\n",
    "import requests\n",
    "\n",
    "lfasr_host = 'http://raasr.xfyun.cn/api'\n",
    "\n",
    "# 请求的接口名\n",
    "api_prepare = '/prepare'\n",
    "api_upload = '/upload'\n",
    "api_merge = '/merge'\n",
    "api_get_progress = '/getProgress'\n",
    "api_get_result = '/getResult'\n",
    "# 文件分片大小10M\n",
    "file_piece_sice = 10485760\n",
    "\n",
    "# ——————————————————转写可配置参数————————————————\n",
    "# 参数可在官网界面（https://doc.xfyun.cn/rest_api/%E8%AF%AD%E9%9F%B3%E8%BD%AC%E5%86%99.html）查看，根据需求可自行在gene_params方法里添加修改\n",
    "# 转写类型\n",
    "lfasr_type = 0\n",
    "# 是否开启分词\n",
    "has_participle = 'false'\n",
    "has_seperate = 'true'\n",
    "# 多候选词个数\n",
    "max_alternatives = 0\n",
    "# 子用户标识\n",
    "suid = ''\n",
    "\n",
    "\n",
    "class SliceIdGenerator:\n",
    "    \"\"\"slice id生成器\"\"\"\n",
    "\n",
    "    def __init__(self):\n",
    "        self.__ch = 'aaaaaaaaa`'\n",
    "\n",
    "    def getNextSliceId(self):\n",
    "        ch = self.__ch\n",
    "        j = len(ch) - 1\n",
    "        while j >= 0:\n",
    "            cj = ch[j]\n",
    "            if cj != 'z':\n",
    "                ch = ch[:j] + chr(ord(cj) + 1) + ch[j + 1:]\n",
    "                break\n",
    "            else:\n",
    "                ch = ch[:j] + 'a' + ch[j + 1:]\n",
    "                j = j - 1\n",
    "        self.__ch = ch\n",
    "        return self.__ch\n",
    "\n",
    "\n",
    "class RequestApi(object):\n",
    "    def __init__(self, appid, secret_key, upload_file_path):\n",
    "        self.appid = appid\n",
    "        self.secret_key = secret_key\n",
    "        self.upload_file_path = upload_file_path\n",
    "\n",
    "    # 根据不同的apiname生成不同的参数,本示例中未使用全部参数您可在官网(https://doc.xfyun.cn/rest_api/%E8%AF%AD%E9%9F%B3%E8%BD%AC%E5%86%99.html)查看后选择适合业务场景的进行更换\n",
    "    def gene_params(self, apiname, taskid=None, slice_id=None):\n",
    "        appid = self.appid\n",
    "        secret_key = self.secret_key\n",
    "        upload_file_path = self.upload_file_path\n",
    "        ts = str(int(time.time()))\n",
    "        m2 = hashlib.md5()\n",
    "        m2.update((appid + ts).encode('utf-8'))\n",
    "        md5 = m2.hexdigest()\n",
    "        md5 = bytes(md5, encoding='utf-8')\n",
    "        # 以secret_key为key, 上面的md5为msg， 使用hashlib.sha1加密结果为signa\n",
    "        signa = hmac.new(secret_key.encode('utf-8'), md5, hashlib.sha1).digest()\n",
    "        signa = base64.b64encode(signa)\n",
    "        signa = str(signa, 'utf-8')\n",
    "        file_len = os.path.getsize(upload_file_path)\n",
    "        file_name = os.path.basename(upload_file_path)\n",
    "        param_dict = {}\n",
    "\n",
    "        if apiname == api_prepare:\n",
    "            # slice_num是指分片数量，如果您使用的音频都是较短音频也可以不分片，直接将slice_num指定为1即可\n",
    "            slice_num = int(file_len / file_piece_sice) + (0 if (file_len % file_piece_sice == 0) else 1)\n",
    "            param_dict['app_id'] = appid\n",
    "            param_dict['signa'] = signa\n",
    "            param_dict['ts'] = ts\n",
    "            param_dict['file_len'] = str(file_len)\n",
    "            param_dict['file_name'] = file_name\n",
    "            param_dict['slice_num'] = str(slice_num)\n",
    "        elif apiname == api_upload:\n",
    "            param_dict['app_id'] = appid\n",
    "            param_dict['signa'] = signa\n",
    "            param_dict['ts'] = ts\n",
    "            param_dict['task_id'] = taskid\n",
    "            param_dict['slice_id'] = slice_id\n",
    "        elif apiname == api_merge:\n",
    "            param_dict['app_id'] = appid\n",
    "            param_dict['signa'] = signa\n",
    "            param_dict['ts'] = ts\n",
    "            param_dict['task_id'] = taskid\n",
    "            param_dict['file_name'] = file_name\n",
    "        elif apiname == api_get_progress or apiname == api_get_result:\n",
    "            param_dict['app_id'] = appid\n",
    "            param_dict['signa'] = signa\n",
    "            param_dict['ts'] = ts\n",
    "            param_dict['task_id'] = taskid\n",
    "        return param_dict\n",
    "\n",
    "    # 请求和结果解析，结果中各个字段的含义可参考：https://doc.xfyun.cn/rest_api/%E8%AF%AD%E9%9F%B3%E8%BD%AC%E5%86%99.html\n",
    "    def gene_request(self, apiname, data, files=None, headers=None):\n",
    "        response = requests.post(lfasr_host + apiname, data=data, files=files, headers=headers)\n",
    "        result = json.loads(response.text)\n",
    "        if result[\"ok\"] == 0:\n",
    "            if apiname=='/getResult':\n",
    "                results=re.findall(r\"\\\"onebest\\\":\\\"(.+?)\\\",\",result['data'])\n",
    "                print(results)\n",
    "            print(\"{} success:\".format(apiname) + str(result))\n",
    "            return result\n",
    "        else:\n",
    "            print(\"{} error:\".format(apiname) + str(result))\n",
    "            exit(0)\n",
    "            return result\n",
    "\n",
    "    # 预处理\n",
    "    def prepare_request(self):\n",
    "        return self.gene_request(apiname=api_prepare,\n",
    "                                 data=self.gene_params(api_prepare))\n",
    "\n",
    "    # 上传\n",
    "    def upload_request(self, taskid, upload_file_path):\n",
    "        file_object = open(upload_file_path, 'rb')\n",
    "        try:\n",
    "            index = 1\n",
    "            sig = SliceIdGenerator()\n",
    "            while True:\n",
    "                content = file_object.read(file_piece_sice)\n",
    "                if not content or len(content) == 0:\n",
    "                    break\n",
    "                files = {\n",
    "                    \"filename\": self.gene_params(api_upload).get(\"slice_id\"),\n",
    "                    \"content\": content\n",
    "                }\n",
    "                response = self.gene_request(api_upload,\n",
    "                                             data=self.gene_params(api_upload, taskid=taskid,\n",
    "                                                                   slice_id=sig.getNextSliceId()),\n",
    "                                             files=files)\n",
    "                if response.get('ok') != 0:\n",
    "                    # 上传分片失败\n",
    "                    print('upload slice fail, response: ' + str(response))\n",
    "                    return False\n",
    "                print('upload slice ' + str(index) + ' success')\n",
    "                index += 1\n",
    "        finally:\n",
    "            'file index:' + str(file_object.tell())\n",
    "            file_object.close()\n",
    "        return True\n",
    "\n",
    "    # 合并\n",
    "    def merge_request(self, taskid):\n",
    "        return self.gene_request(api_merge, data=self.gene_params(api_merge, taskid=taskid))\n",
    "\n",
    "    # 获取进度\n",
    "    def get_progress_request(self, taskid):\n",
    "        return self.gene_request(api_get_progress, data=self.gene_params(api_get_progress, taskid=taskid))\n",
    "\n",
    "    # 获取结果\n",
    "    def get_result_request(self, taskid):\n",
    "        return self.gene_request(api_get_result, data=self.gene_params(api_get_result, taskid=taskid))\n",
    "\n",
    "\n",
    "\n",
    "# 注意：如果出现requests模块报错：\"NoneType\" object has no attribute 'read', 请尝试将requests模块更新到2.20.0或以上版本(本demo测试版本为2.20.0)\n",
    "# 输入讯飞开放平台的appid，secret_key和待转写的文件路径\n",
    "if __name__ == '__main__':\n",
    "    api = RequestApi(appid=\"\", secret_key=\"\", upload_file_path=r\"\")\n",
    "    api.all_api_request()\n",
    "\n"
   ],
   "metadata": {
    "collapsed": false,
    "ExecuteTime": {
     "end_time": "2023-12-03T05:34:43.745989Z",
     "start_time": "2023-12-03T05:34:43.044991200Z"
    }
   }
  },
  {
   "cell_type": "code",
   "execution_count": 11,
   "outputs": [
    {
     "name": "stdout",
     "output_type": "stream",
     "text": [
      "百度语音识别API返回错误：content len too long.\n",
      "None\n"
     ]
    }
   ],
   "source": [
    "\n"
   ],
   "metadata": {
    "collapsed": false,
    "ExecuteTime": {
     "end_time": "2023-12-02T16:16:47.376492200Z",
     "start_time": "2023-12-02T16:16:43.564611100Z"
    }
   }
  },
  {
   "cell_type": "code",
   "execution_count": 10,
   "outputs": [
    {
     "ename": "TypeError",
     "evalue": "audio_to_text() got an unexpected keyword argument 'language_code'",
     "output_type": "error",
     "traceback": [
      "\u001B[1;31m---------------------------------------------------------------------------\u001B[0m",
      "\u001B[1;31mTypeError\u001B[0m                                 Traceback (most recent call last)",
      "Cell \u001B[1;32mIn[10], line 2\u001B[0m\n\u001B[0;32m      1\u001B[0m \u001B[38;5;66;03m# 进行音频转文本\u001B[39;00m\n\u001B[1;32m----> 2\u001B[0m result \u001B[38;5;241m=\u001B[39m \u001B[43maudio_to_text\u001B[49m\u001B[43m(\u001B[49m\u001B[43maudio_path\u001B[49m\u001B[43m,\u001B[49m\u001B[43mlanguage_code\u001B[49m\u001B[38;5;241;43m=\u001B[39;49m\u001B[38;5;124;43m\"\u001B[39;49m\u001B[38;5;124;43mzh-CN\u001B[39;49m\u001B[38;5;124;43m\"\u001B[39;49m\u001B[43m)\u001B[49m\n",
      "\u001B[1;31mTypeError\u001B[0m: audio_to_text() got an unexpected keyword argument 'language_code'"
     ]
    }
   ],
   "source": [
    "# 进行音频转文本\n",
    "result = audio_to_text(audio_path,language_code=\"zh-CN\")"
   ],
   "metadata": {
    "collapsed": false,
    "ExecuteTime": {
     "end_time": "2023-12-02T16:06:43.059431100Z",
     "start_time": "2023-12-02T16:06:43.050683300Z"
    }
   }
  },
  {
   "cell_type": "code",
   "execution_count": null,
   "outputs": [],
   "source": [
    "\n",
    "def save_text_to_file(text, output_file):\n",
    "    with open(output_file, \"w\", encoding=\"utf-8\") as f:\n",
    "        f.write(text)\n",
    "if result:\n",
    "    print(\"音频转文本结果：\", result)\n",
    "    # 将结果写入到文件中\n",
    "    output_file = \"output_text.txt\"\n",
    "    save_text_to_file(result, output_file)\n",
    "    print(f\"结果已写入到文件：{output_file}\")\n",
    "else:\n",
    "    print(\"音频转文本失败。\")"
   ],
   "metadata": {
    "collapsed": false,
    "ExecuteTime": {
     "start_time": "2023-12-02T15:59:42.494618700Z"
    }
   }
  }
 ],
 "metadata": {
  "kernelspec": {
   "display_name": "Python 3",
   "language": "python",
   "name": "python3"
  },
  "language_info": {
   "codemirror_mode": {
    "name": "ipython",
    "version": 2
   },
   "file_extension": ".py",
   "mimetype": "text/x-python",
   "name": "python",
   "nbconvert_exporter": "python",
   "pygments_lexer": "ipython2",
   "version": "2.7.6"
  }
 },
 "nbformat": 4,
 "nbformat_minor": 0
}
