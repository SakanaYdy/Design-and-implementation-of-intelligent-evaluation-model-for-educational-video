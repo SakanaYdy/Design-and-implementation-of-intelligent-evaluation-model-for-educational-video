{
 "cells": [
  {
   "cell_type": "code",
   "execution_count": null,
   "metadata": {
    "collapsed": true
   },
   "outputs": [],
   "source": [
    "from transformers import CLIPProcessor, CLIPModel\n",
    "import torch\n",
    "from PIL import Image\n",
    "\n",
    "# 加载 CLIP 模型和处理器\n",
    "model = CLIPModel.from_pretrained(\"openai/clip-vit-base-patch16\")\n",
    "processor = CLIPProcessor.from_pretrained(\"openai/clip-vit-base-patch16\")\n",
    "\n",
    "# 加载图片\n",
    "image = Image.open(\"your_image.jpg\")\n",
    "\n",
    "# 定义文本标签\n",
    "texts = [\"a photo of a cat\", \"a photo of a dog\", \"a photo of a car\"]\n",
    "\n",
    "# 处理输入数据\n",
    "inputs = processor(text=texts, images=image, return_tensors=\"pt\", padding=True)\n",
    "\n",
    "# 获取模型输出\n",
    "outputs = model(**inputs)\n",
    "\n",
    "# 获取图像和文本的相似度\n",
    "logits_per_image = outputs.logits_per_image  # 图像与每个文本标签的相似度\n",
    "probs = logits_per_image.softmax(dim=1)  # 转换为概率分布\n",
    "\n",
    "# 获取最匹配的标签\n",
    "max_prob_idx = torch.argmax(probs)\n",
    "print(f\"预测标签: {texts[max_prob_idx]}\")\n"
   ]
  }
 ],
 "metadata": {
  "kernelspec": {
   "display_name": "Python 3",
   "language": "python",
   "name": "python3"
  },
  "language_info": {
   "codemirror_mode": {
    "name": "ipython",
    "version": 2
   },
   "file_extension": ".py",
   "mimetype": "text/x-python",
   "name": "python",
   "nbconvert_exporter": "python",
   "pygments_lexer": "ipython2",
   "version": "2.7.6"
  }
 },
 "nbformat": 4,
 "nbformat_minor": 0
}
