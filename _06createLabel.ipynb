{
 "cells": [
  {
   "cell_type": "markdown",
   "source": [
    "对于关键帧图像进行噪声处理\n",
    "0  高质量原图\n",
    "1  模糊化噪声\n",
    "2  遮挡噪声\n"
   ],
   "metadata": {
    "collapsed": false
   }
  },
  {
   "cell_type": "markdown",
   "source": [
    "1 模糊化处理"
   ],
   "metadata": {
    "collapsed": false
   }
  },
  {
   "cell_type": "code",
   "execution_count": 1,
   "metadata": {
    "collapsed": true,
    "ExecuteTime": {
     "end_time": "2024-11-02T07:26:45.661341200Z",
     "start_time": "2024-11-02T07:24:11.546918Z"
    }
   },
   "outputs": [
    {
     "name": "stdout",
     "output_type": "stream",
     "text": [
      "模糊化处理完成！\n"
     ]
    }
   ],
   "source": [
    "from PIL import Image, ImageFilter\n",
    "import os\n",
    "\n",
    "# 定义模糊处理函数\n",
    "def blur_image(input_path, output_path, blur_radius=5):\n",
    "    # 打开图片\n",
    "    img = Image.open(input_path)\n",
    "    # 应用模糊滤镜\n",
    "    blurred_img = img.filter(ImageFilter.GaussianBlur(blur_radius))\n",
    "    # 保存处理后的图片\n",
    "    blurred_img.save(output_path)\n",
    "\n",
    "# 文件夹路径\n",
    "input_folder = 'data/img/0'\n",
    "output_folder = 'data/img/1'\n",
    "\n",
    "# 创建输出文件夹\n",
    "os.makedirs(output_folder, exist_ok=True)\n",
    "\n",
    "# 遍历输入文件夹中的所有图片\n",
    "for filename in os.listdir(input_folder):\n",
    "    if filename.endswith(('.png', '.jpg', '.jpeg')):  # 只处理图片文件\n",
    "        input_path = os.path.join(input_folder, filename)\n",
    "        output_path = os.path.join(output_folder, f'blurred_{filename}')\n",
    "        blur_image(input_path, output_path)\n",
    "\n",
    "print(\"模糊化处理完成！\")\n"
   ]
  },
  {
   "cell_type": "markdown",
   "source": [
    "2 遮挡噪声\n",
    "3 使用的是全黑遮挡"
   ],
   "metadata": {
    "collapsed": false
   }
  },
  {
   "cell_type": "code",
   "execution_count": 8,
   "outputs": [
    {
     "name": "stdout",
     "output_type": "stream",
     "text": [
      "遮挡处理完成！\n"
     ]
    }
   ],
   "source": [
    "from PIL import Image\n",
    "import os\n",
    "import random\n",
    "\n",
    "def create_obscured_image(input_path, output_path, opacity=255, size_factor=0.5):\n",
    "    # 打开原始图片\n",
    "    img = Image.open(input_path).convert(\"RGBA\")\n",
    "\n",
    "    # 创建与原图同样大小的遮挡层\n",
    "    overlay = Image.new(\"RGBA\", img.size)\n",
    "\n",
    "    # 随机生成遮挡层的位置和大小\n",
    "    width, height = img.size\n",
    "    overlay_width = int(width * size_factor)\n",
    "    overlay_height = int(height * size_factor)\n",
    "    x = random.randint(0, width - overlay_width)\n",
    "    y = random.randint(0, height - overlay_height)\n",
    "\n",
    "    # 在遮挡层上填充颜色并设置透明度\n",
    "    overlay_color = (0, 0, 0, opacity)  # 黑色遮挡\n",
    "    for i in range(overlay_width):\n",
    "        for j in range(overlay_height):\n",
    "            overlay.putpixel((x + i, y + j), overlay_color)\n",
    "\n",
    "    # 将遮挡层与原图合成\n",
    "    combined = Image.alpha_composite(img, overlay)\n",
    "\n",
    "    # 转换为 RGB 模式以保存为 JPEG\n",
    "    combined = combined.convert(\"RGB\")\n",
    "\n",
    "    # 保存处理后的图片\n",
    "    combined.save(output_path)\n",
    "\n",
    "# 文件夹路径\n",
    "input_folder = 'data/img/0'\n",
    "output_folder = 'data/img/3'\n",
    "\n",
    "# 创建输出文件夹\n",
    "os.makedirs(output_folder, exist_ok=True)\n",
    "\n",
    "# 遍历输入文件夹中的所有图片\n",
    "for filename in os.listdir(input_folder):\n",
    "    if filename.endswith(('.png', '.jpg', '.jpeg')):  # 只处理图片文件\n",
    "        input_path = os.path.join(input_folder, filename)\n",
    "        output_path = os.path.join(output_folder, f'obscured_{filename}')\n",
    "        create_obscured_image(input_path, output_path, opacity=255, size_factor=0.3)  # 可以调整透明度和遮挡大小\n",
    "\n",
    "print(\"遮挡处理完成！\")\n"
   ],
   "metadata": {
    "collapsed": false,
    "ExecuteTime": {
     "end_time": "2024-11-02T08:02:15.682922500Z",
     "start_time": "2024-11-02T07:57:54.112881200Z"
    }
   }
  }
 ],
 "metadata": {
  "kernelspec": {
   "display_name": "Python 3",
   "language": "python",
   "name": "python3"
  },
  "language_info": {
   "codemirror_mode": {
    "name": "ipython",
    "version": 2
   },
   "file_extension": ".py",
   "mimetype": "text/x-python",
   "name": "python",
   "nbconvert_exporter": "python",
   "pygments_lexer": "ipython2",
   "version": "2.7.6"
  }
 },
 "nbformat": 4,
 "nbformat_minor": 0
}
